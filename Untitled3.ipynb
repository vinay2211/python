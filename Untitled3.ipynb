{
 "cells": [
  {
   "cell_type": "code",
   "execution_count": 14,
   "metadata": {},
   "outputs": [
    {
     "name": "stdout",
     "output_type": "stream",
     "text": [
      "6\n",
      "* \n",
      "* * \n",
      "* * * \n",
      "* * * * \n",
      "* * * * * \n",
      "* * * * * * \n"
     ]
    }
   ],
   "source": [
    "\n",
    "n=int(input())\n",
    "for i in range(0, n): \n",
    "    for j in range(0, i+1): \n",
    "        print(\"* \",end=\"\") \n",
    "    print(\"\\r\") "
   ]
  },
  {
   "cell_type": "code",
   "execution_count": 20,
   "metadata": {},
   "outputs": [
    {
     "name": "stdout",
     "output_type": "stream",
     "text": [
      "***\r\n",
      "***\r\n",
      "***\r\n",
      "***\r\n",
      "***\r\n",
      "***\r\n",
      "***\r\n",
      "***\r\n",
      "***\r\n",
      "***\r\n"
     ]
    }
   ],
   "source": [
    "\n",
    "for i in range(0,10):\n",
    "    for j in range(0,3):\n",
    "        print(\"*\",end='')\n",
    "    print(\"\\r\")        "
   ]
  },
  {
   "cell_type": "code",
   "execution_count": 28,
   "metadata": {},
   "outputs": [
    {
     "name": "stdout",
     "output_type": "stream",
     "text": [
      "1632\n",
      "1650\n",
      "1634\n"
     ]
    }
   ],
   "source": [
    "def ams(n):\n",
    "    s=0\n",
    "    for i in n:\n",
    "        s=int(i)**len(n)+s\n",
    "    if(str(s)==n):\n",
    "        return True\n",
    "    else:\n",
    "        return False\n",
    "a=input()\n",
    "b=input()\n",
    "for i in range(int(a),int(b)):\n",
    "    if(ams(str(i))):\n",
    "        print(i)"
   ]
  },
  {
   "cell_type": "code",
   "execution_count": 30,
   "metadata": {
    "scrolled": true
   },
   "outputs": [
    {
     "data": {
      "text/plain": [
       "'aafsd'"
      ]
     },
     "execution_count": 30,
     "metadata": {},
     "output_type": "execute_result"
    }
   ],
   "source": [
    "n=\"dsfaa\"\n",
    "n[::-1]"
   ]
  },
  {
   "cell_type": "code",
   "execution_count": null,
   "metadata": {},
   "outputs": [],
   "source": []
  }
 ],
 "metadata": {
  "kernelspec": {
   "display_name": "Python 3",
   "language": "python",
   "name": "python3"
  },
  "language_info": {
   "codemirror_mode": {
    "name": "ipython",
    "version": 3
   },
   "file_extension": ".py",
   "mimetype": "text/x-python",
   "name": "python",
   "nbconvert_exporter": "python",
   "pygments_lexer": "ipython3",
   "version": "3.7.3"
  }
 },
 "nbformat": 4,
 "nbformat_minor": 2
}
