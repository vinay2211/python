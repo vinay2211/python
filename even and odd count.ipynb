{
 "cells": [
  {
   "cell_type": "code",
   "execution_count": null,
   "metadata": {},
   "outputs": [],
   "source": [
    "c=0\n",
    "d=0\n",
    "a=int(input(\"enter upper\"))\n",
    "b=int(input(\"enter lower\"))\n",
    "for i in range (a,b+1):\n",
    "    if i%2==0:\n",
    "        c=c+1\n",
    "    if i%2!=0:\n",
    "        d=d+1\n",
    "print(\"even numbers are \",c,\"odd numbers are\",d)"
   ]
  },
  {
   "cell_type": "code",
   "execution_count": null,
   "metadata": {},
   "outputs": [],
   "source": [
    "i = 244\n",
    "c = 0\n",
    "temp = i\n",
    "while i>0:\n",
    "    rem = i%10\n",
    "    c+=rem\n",
    "    i = i//10\n",
    "if c==3:\n",
    "    print(temp)"
   ]
  },
  {
   "cell_type": "code",
   "execution_count": null,
   "metadata": {},
   "outputs": [],
   "source": []
  },
  {
   "cell_type": "code",
   "execution_count": null,
   "metadata": {},
   "outputs": [],
   "source": []
  }
 ],
 "metadata": {
  "kernelspec": {
   "display_name": "Python 3",
   "language": "python",
   "name": "python3"
  },
  "language_info": {
   "codemirror_mode": {
    "name": "ipython",
    "version": 3
   },
   "file_extension": ".py",
   "mimetype": "text/x-python",
   "name": "python",
   "nbconvert_exporter": "python",
   "pygments_lexer": "ipython3",
   "version": "3.7.3"
  }
 },
 "nbformat": 4,
 "nbformat_minor": 2
}
