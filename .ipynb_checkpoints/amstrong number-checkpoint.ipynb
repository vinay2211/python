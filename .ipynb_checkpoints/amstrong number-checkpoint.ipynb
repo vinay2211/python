{
 "cells": [
  {
   "cell_type": "code",
   "execution_count": 9,
   "metadata": {},
   "outputs": [
    {
     "name": "stdout",
     "output_type": "stream",
     "text": [
      "enter number123\n",
      "36\n"
     ]
    }
   ],
   "source": [
    "def ams(n):\n",
    "    s=0\n",
    "    for i in n:\n",
    "        s=int(i)**3+s\n",
    "    if(s==n):\n",
    "        return True\n",
    "    else:\n",
    "        return False\n",
    "\n",
    "    "
   ]
  },
  {
   "cell_type": "code",
   "execution_count": 24,
   "metadata": {},
   "outputs": [
    {
     "name": "stdout",
     "output_type": "stream",
     "text": [
      "1\n",
      "500\n",
      "1\n",
      "153\n",
      "370\n",
      "371\n",
      "407\n"
     ]
    }
   ],
   "source": [
    "def ams(n):\n",
    "    s=0\n",
    "    for i in n:\n",
    "        s=int(i)**3+s\n",
    "    if(str(s)==n):\n",
    "        return True\n",
    "    else:\n",
    "        return False\n",
    "a=input()\n",
    "b=input()\n",
    "for i in range(int(a),int(b)):\n",
    "    if(ams(str(i))):\n",
    "        print(i)"
   ]
  },
  {
   "cell_type": "code",
   "execution_count": null,
   "metadata": {},
   "outputs": [],
   "source": []
  }
 ],
 "metadata": {
  "kernelspec": {
   "display_name": "Python 3",
   "language": "python",
   "name": "python3"
  },
  "language_info": {
   "codemirror_mode": {
    "name": "ipython",
    "version": 3
   },
   "file_extension": ".py",
   "mimetype": "text/x-python",
   "name": "python",
   "nbconvert_exporter": "python",
   "pygments_lexer": "ipython3",
   "version": "3.7.3"
  }
 },
 "nbformat": 4,
 "nbformat_minor": 2
}
