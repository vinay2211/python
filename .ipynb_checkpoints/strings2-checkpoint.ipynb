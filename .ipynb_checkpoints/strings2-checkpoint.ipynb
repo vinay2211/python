{
 "cells": [
  {
   "cell_type": "code",
   "execution_count": 16,
   "metadata": {},
   "outputs": [
    {
     "name": "stdout",
     "output_type": "stream",
     "text": [
      "enter stringvinay\n",
      "enter capitalQQQQQQQ\n",
      "Afetr replacing:\n",
      "v@n@y\n",
      "qqqqqqq\n"
     ]
    }
   ],
   "source": [
    "s = input(\"enter string\")\n",
    "s2 = \"Wonderful\"\n",
    "s3 = input(\"enter capital\")\n",
    "print(\"Afetr replacing:\")\n",
    "for i in s:\n",
    "    if i in \"AEIOUaeiou\":\n",
    "        s = s.replace(i,\"@\")\n",
    "print(s)\n",
    "print(s3.lower())"
   ]
  },
  {
   "cell_type": "code",
   "execution_count": 10,
   "metadata": {},
   "outputs": [
    {
     "data": {
      "text/plain": [
       "'python'"
      ]
     },
     "execution_count": 10,
     "metadata": {},
     "output_type": "execute_result"
    }
   ],
   "source": []
  },
  {
   "cell_type": "code",
   "execution_count": null,
   "metadata": {},
   "outputs": [],
   "source": []
  }
 ],
 "metadata": {
  "kernelspec": {
   "display_name": "Python 3",
   "language": "python",
   "name": "python3"
  },
  "language_info": {
   "codemirror_mode": {
    "name": "ipython",
    "version": 3
   },
   "file_extension": ".py",
   "mimetype": "text/x-python",
   "name": "python",
   "nbconvert_exporter": "python",
   "pygments_lexer": "ipython3",
   "version": "3.7.3"
  }
 },
 "nbformat": 4,
 "nbformat_minor": 2
}
