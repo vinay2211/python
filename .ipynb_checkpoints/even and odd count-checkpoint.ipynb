{
 "cells": [
  {
   "cell_type": "code",
   "execution_count": 3,
   "metadata": {},
   "outputs": [
    {
     "name": "stdout",
     "output_type": "stream",
     "text": [
      "enter upper1\n",
      "enter lower10\n",
      "even numbers are  5 odd numbers are 5\n"
     ]
    }
   ],
   "source": [
    "c=0\n",
    "d=0\n",
    "a=int(input(\"enter upper\"))\n",
    "b=int(input(\"enter lower\"))\n",
    "for i in range (a,b+1):\n",
    "    if i%2==0:\n",
    "        c=c+1\n",
    "    if i%2!=0:\n",
    "        d=d+1\n",
    "print(\"even numbers are \",c,\"odd numbers are\",d)"
   ]
  },
  {
   "cell_type": "code",
   "execution_count": null,
   "metadata": {},
   "outputs": [],
   "source": []
  }
 ],
 "metadata": {
  "kernelspec": {
   "display_name": "Python 3",
   "language": "python",
   "name": "python3"
  },
  "language_info": {
   "codemirror_mode": {
    "name": "ipython",
    "version": 3
   },
   "file_extension": ".py",
   "mimetype": "text/x-python",
   "name": "python",
   "nbconvert_exporter": "python",
   "pygments_lexer": "ipython3",
   "version": "3.7.3"
  }
 },
 "nbformat": 4,
 "nbformat_minor": 2
}
