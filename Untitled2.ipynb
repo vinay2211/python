{
 "cells": [
  {
   "cell_type": "code",
   "execution_count": 1,
   "metadata": {},
   "outputs": [
    {
     "name": "stdout",
     "output_type": "stream",
     "text": [
      "200\n",
      "600\n",
      "200\n",
      "202\n",
      "204\n",
      "206\n",
      "208\n",
      "220\n",
      "222\n",
      "224\n",
      "226\n",
      "228\n",
      "240\n",
      "242\n",
      "244\n",
      "246\n",
      "248\n",
      "260\n",
      "262\n",
      "264\n",
      "266\n",
      "268\n",
      "280\n",
      "282\n",
      "284\n",
      "286\n",
      "288\n",
      "400\n",
      "402\n",
      "404\n",
      "406\n",
      "408\n",
      "420\n",
      "422\n",
      "424\n",
      "426\n",
      "428\n",
      "440\n",
      "442\n",
      "444\n",
      "446\n",
      "448\n",
      "460\n",
      "462\n",
      "464\n",
      "466\n",
      "468\n",
      "480\n",
      "482\n",
      "484\n",
      "486\n",
      "488\n",
      "600\n"
     ]
    }
   ],
   "source": [
    "a = int(input())\n",
    "b = int(input())\n",
    "for i in range(a,b+1):\n",
    "    c = 0\n",
    "    for j in str(i):\n",
    "        if int(j)%2==0:\n",
    "            c+=1\n",
    "    if c==3:\n",
    "        print(i)"
   ]
  },
  {
   "cell_type": "code",
   "execution_count": null,
   "metadata": {},
   "outputs": [],
   "source": [
    "a = int(input())\n",
    "b = int(input())\n",
    "while a<=b:\n",
    "    c = 0\n",
    "    temp = a\n",
    "    while a>0:\n",
    "        rem = a%10\n",
    "        if rem%2==1:\n",
    "            a+=1\n",
    "        else:\n",
    "            c+=1\n",
    "            \n",
    "            "
   ]
  },
  {
   "cell_type": "code",
   "execution_count": null,
   "metadata": {},
   "outputs": [],
   "source": [
    "i = 201\n",
    "c = 0\n",
    "temp = i\n",
    "while i>0:\n",
    "    if ((i%10)%2==0):\n",
    "        c+=1\n",
    "        i = i//10\n",
    "if c==3:\n",
    "    print(temp)"
   ]
  },
  {
   "cell_type": "code",
   "execution_count": null,
   "metadata": {},
   "outputs": [],
   "source": []
  },
  {
   "cell_type": "code",
   "execution_count": null,
   "metadata": {},
   "outputs": [],
   "source": []
  }
 ],
 "metadata": {
  "kernelspec": {
   "display_name": "Python 3",
   "language": "python",
   "name": "python3"
  },
  "language_info": {
   "codemirror_mode": {
    "name": "ipython",
    "version": 3
   },
   "file_extension": ".py",
   "mimetype": "text/x-python",
   "name": "python",
   "nbconvert_exporter": "python",
   "pygments_lexer": "ipython3",
   "version": "3.7.3"
  }
 },
 "nbformat": 4,
 "nbformat_minor": 2
}
